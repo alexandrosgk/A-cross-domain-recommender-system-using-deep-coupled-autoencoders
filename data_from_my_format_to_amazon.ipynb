{
 "cells": [
  {
   "cell_type": "code",
   "execution_count": 16,
   "metadata": {},
   "outputs": [
    {
     "name": "stderr",
     "output_type": "stream",
     "text": [
      "/tmp/ipykernel_1178259/2709001664.py:13: FutureWarning: iteritems is deprecated and will be removed in a future version. Use .items instead.\n",
      "  for movie_id, rating in row.iteritems():\n"
     ]
    }
   ],
   "source": [
    "import pandas as pd\n",
    "\n",
    "# Load your CSV file, assuming the file is formatted with users as columns and items as rows\n",
    "csv_path = \"/home/alexgi/Workspace/REC_SYSTEMS/My_codes/Data/Rt_no4.csv\"\n",
    "rating_matrix = pd.read_csv(csv_path, header=None)\n",
    "rating_matrix.index += 1  # Optional: start user IDs from 1\n",
    "rating_matrix.columns += 1  # Optional: start movie IDs from 1\n",
    "\n",
    "data_list = []\n",
    "\n",
    "# Iterate over each element in the DataFrame to create a list of tuples only for non-zero ratings\n",
    "for user_id, row in rating_matrix.iterrows():\n",
    "    for movie_id, rating in row.iteritems():\n",
    "        if rating != 0:  # Only add ratings that are not zero\n",
    "            data_list.append((user_id, movie_id, rating))\n",
    "\n",
    "# Convert the list of tuples to a DataFrame\n",
    "filtered_data = pd.DataFrame(data_list, columns=['userId', 'movieId', 'rating'])\n"
   ]
  },
  {
   "cell_type": "code",
   "execution_count": 17,
   "metadata": {},
   "outputs": [],
   "source": [
    "output_csv_path = 'Rt_no4_amazon.csv'\n",
    "filtered_data.to_csv(output_csv_path, index=False)"
   ]
  },
  {
   "cell_type": "code",
   "execution_count": 5,
   "metadata": {},
   "outputs": [
    {
     "data": {
      "text/plain": [
       "5984"
      ]
     },
     "execution_count": 5,
     "metadata": {},
     "output_type": "execute_result"
    }
   ],
   "source": [
    "max(filtered_data['userId'])"
   ]
  }
 ],
 "metadata": {
  "kernelspec": {
   "display_name": "mytorch",
   "language": "python",
   "name": "python3"
  },
  "language_info": {
   "codemirror_mode": {
    "name": "ipython",
    "version": 3
   },
   "file_extension": ".py",
   "mimetype": "text/x-python",
   "name": "python",
   "nbconvert_exporter": "python",
   "pygments_lexer": "ipython3",
   "version": "3.10.8"
  }
 },
 "nbformat": 4,
 "nbformat_minor": 2
}
